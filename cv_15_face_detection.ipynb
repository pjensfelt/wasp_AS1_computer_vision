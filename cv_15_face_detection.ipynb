{
 "cells": [
  {
   "cell_type": "markdown",
   "metadata": {},
   "source": [
    "# Haar-cascade detection of faces"
   ]
  },
  {
   "cell_type": "code",
   "execution_count": null,
   "metadata": {},
   "outputs": [],
   "source": [
    "import cv2 as cv"
   ]
  },
  {
   "cell_type": "markdown",
   "metadata": {},
   "source": [
    "## Import the models\n",
    "Below we test models for faces and eyes. \n",
    "\n",
    "There are a bunch of othe rmodels that you can test. You find the models under\n",
    "/home/wasp/.local/lib/python2.7/site-packages/cv2/data/"
   ]
  },
  {
   "cell_type": "code",
   "execution_count": null,
   "metadata": {},
   "outputs": [],
   "source": [
    "# Load the model\n",
    "# It is assumed that you have a standard WASP installation. You need to modify the path if your files are elsewhere\n",
    "# In a linux system you can do \n",
    "# locate haarcascade_eye.xml\n",
    "face_cascade = cv.CascadeClassifier('/home/wasp/.local/lib/python2.7/site-packages/cv2/data/haarcascade_frontalface_default.xml')\n",
    "eye_cascade = cv.CascadeClassifier('/home/wasp/.local/lib/python2.7/site-packages/cv2/data/haarcascade_eye.xml')"
   ]
  },
  {
   "cell_type": "markdown",
   "metadata": {},
   "source": [
    "## Capture images, do detection and display the results"
   ]
  },
  {
   "cell_type": "code",
   "execution_count": null,
   "metadata": {},
   "outputs": [],
   "source": [
    "# You want to change the device number if you have \n",
    "# more than one camera. The built-in, if you have such, \n",
    "# and so on.\n",
    "#\n",
    "# NOTE Do not forget to relase the capture device when you are done\n",
    "\n",
    "device_number = 0\n",
    "capture_device = cv.VideoCapture(device_number)\n",
    "\n",
    "if capture_device.isOpened(): # try to get the first frame\n",
    "    is_capturing, image = capture_device.read()\n",
    "else:\n",
    "    is_capturing = False\n",
    "    print(\"Failed to get even a single image frame\")\n",
    "    exit\n",
    "\n",
    "# Loop for as long as we get images. Press \n",
    "while is_capturing:\n",
    "\n",
    "    try:\n",
    "        # Capture the image\n",
    "        is_capturing, image = capture_device.read()\n",
    "\n",
    "        # Convert to a gray scale image\n",
    "        gray = cv.cvtColor(image, cv.COLOR_BGR2GRAY)\n",
    "\n",
    "        faces = face_cascade.detectMultiScale(gray, 1.3, 5)\n",
    "        for (x,y,w,h) in faces:\n",
    "            image = cv.rectangle(image,(x,y),(x+w,y+h),(255,0,0),2)\n",
    "            roi_gray = gray[y:y+h, x:x+w]\n",
    "            roi_color = image[y:y+h, x:x+w]\n",
    "    \n",
    "            # Look for eyes inside the face boundng box\n",
    "            eyes = eye_cascade.detectMultiScale(roi_gray)\n",
    "            for (ex,ey,ew,eh) in eyes:\n",
    "                cv.rectangle(roi_color,(ex,ey),(ex+ew,ey+eh),(0,255,0),2)\n",
    "        \n",
    "        \n",
    "        # Show the image\n",
    "        cv.imshow(\"Image with bounding boxes\", image)\n",
    "\n",
    "        # Wait for a while until we grab the next image\n",
    "        time_to_wait_ms = 50\n",
    "\n",
    "        k = cv.waitKey(30) & 0xff\n",
    "        if k == 27 or k == 32:\n",
    "            break\n",
    "    except KeyboardInterrupt:\n",
    "        print(\"Program interupted\")\n",
    "        break;\n",
    "        \n",
    "print(\"Ending by releasing the device\")\n",
    "cv.destroyAllWindows()\n",
    "capture_device.release()"
   ]
  },
  {
   "cell_type": "code",
   "execution_count": null,
   "metadata": {},
   "outputs": [],
   "source": [
    "cv.destroyAllWindows()\n",
    "capture_device.release()"
   ]
  }
 ],
 "metadata": {
  "kernelspec": {
   "display_name": "Python 2",
   "language": "python",
   "name": "python2"
  },
  "language_info": {
   "codemirror_mode": {
    "name": "ipython",
    "version": 2
   },
   "file_extension": ".py",
   "mimetype": "text/x-python",
   "name": "python",
   "nbconvert_exporter": "python",
   "pygments_lexer": "ipython2",
   "version": "2.7.12"
  }
 },
 "nbformat": 4,
 "nbformat_minor": 2
}
