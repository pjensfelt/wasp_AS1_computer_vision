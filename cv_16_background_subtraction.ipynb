{
 "cells": [
  {
   "cell_type": "markdown",
   "metadata": {},
   "source": [
    "# Background subtraction\n",
    "This notebook will illustrate how we can use background substraction to find the foreground"
   ]
  },
  {
   "cell_type": "code",
   "execution_count": null,
   "metadata": {},
   "outputs": [],
   "source": [
    "import numpy as np\n",
    "import cv2 as cv"
   ]
  },
  {
   "cell_type": "code",
   "execution_count": null,
   "metadata": {},
   "outputs": [],
   "source": [
    "# Create the capture device that will get the farmes from the video\n",
    "videofile = 'test_images/opencv_samples_data/vtest.avi'\n",
    "capture_device = cv.VideoCapture(videofile)\n",
    "\n",
    "# Check that we managed to open it\n",
    "if capture_device.isOpened():\n",
    "    print \"Opened the video file \" + videofile\n",
    "else:\n",
    "    print \"Could not open the video file \" + videofile\n",
    "    exit\n",
    "\n",
    "\n",
    "# Create the foreground / background engine\n",
    "fgbg = cv.bgsegm.createBackgroundSubtractorMOG()\n",
    "\n",
    "# Loop over the video frames\n",
    "is_capturing = True\n",
    "while(1):\n",
    "    is_capturing, frame = capture_device.read()\n",
    "\n",
    "    if not is_capturing:\n",
    "        print \"Not capturing images anymore\"\n",
    "        break\n",
    "    \n",
    "    # Find a mask for the foreground \n",
    "    fgmask = fgbg.apply(frame)\n",
    "\n",
    "    # Show the original frame and the mask for te foreground\n",
    "    cv.imshow('Original frame', frame)\n",
    "    cv.imshow('Foreground mask',fgmask)\n",
    "    \n",
    "    k = cv.waitKey(30) & 0xff\n",
    "    if k == 27:\n",
    "        break\n",
    "\n",
    "capture_device.release()\n",
    "cv.destroyAllWindows()"
   ]
  },
  {
   "cell_type": "code",
   "execution_count": null,
   "metadata": {},
   "outputs": [],
   "source": [
    "capture_device.release()\n",
    "cv.destroyAllWindows()"
   ]
  },
  {
   "cell_type": "code",
   "execution_count": null,
   "metadata": {},
   "outputs": [],
   "source": []
  }
 ],
 "metadata": {
  "kernelspec": {
   "display_name": "Python 2",
   "language": "python",
   "name": "python2"
  },
  "language_info": {
   "codemirror_mode": {
    "name": "ipython",
    "version": 2
   },
   "file_extension": ".py",
   "mimetype": "text/x-python",
   "name": "python",
   "nbconvert_exporter": "python",
   "pygments_lexer": "ipython2",
   "version": "2.7.12"
  }
 },
 "nbformat": 4,
 "nbformat_minor": 2
}
