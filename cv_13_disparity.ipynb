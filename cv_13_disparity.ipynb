{
 "cells": [
  {
   "cell_type": "markdown",
   "metadata": {},
   "source": [
    "# Disparity\n",
    "The disparity is the distance, in pixels, between the projection of a point in the world onto the left and the right images.\n",
    "\n",
    "The disparity depends on the depth between the image and the point, the baseline of the cameras (distance between them) and the focal length. \n",
    "\n",
    "In most setups we would know the baseline and the focal length and we would calculate the disparity from an image pair to estimate the detpth to objects.\n",
    "\n",
    "The output from the stereo algorithm use in this notebook is a disparity map (an image where each pixel gixes the disparity for the corresponding pixel in the input image).\n",
    "\n",
    "To visualize this disparity map we typically have to perform normalization of the pixel values so that they are mapped between 0 and 255.\n",
    "\n",
    "We can look at the disparity map and get a sense of distance. The darker, i.e., lower disparity, the further away that point is in the world. \n",
    "\n",
    "Notice that matching points between the left and the right image requires texture in the images so that moving the windows result in different correlations. In regions without texture we will not be eable to estimate the disparity. The same happens in those regions of the image which are only visible by one of the cameras, typically the edges of the image.\n",
    "\n",
    "One thing to notice is that it is really hard to estimate the disparity and that output from these basic methods used in this notebook are often very noisy."
   ]
  },
  {
   "cell_type": "code",
   "execution_count": 11,
   "metadata": {},
   "outputs": [
    {
     "name": "stdout",
     "output_type": "stream",
     "text": [
      "Image sizes are (436, 1024)(436, 1024)\n",
      "Min disp value is -16 and max is 1008\n",
      "Press ENTER in the image to close window\n"
     ]
    }
   ],
   "source": [
    "import numpy as np\n",
    "import cv2 as cv\n",
    "from matplotlib import pyplot as plt\n",
    "\n",
    "imgL = cv.imread('test_images/ambush_5_left.jpg',cv.IMREAD_GRAYSCALE)\n",
    "imgR = cv.imread('test_images/ambush_5_right.jpg',cv.IMREAD_GRAYSCALE)\n",
    "print \"Image sizes are \" + repr(imgL.shape) + repr(imgR.shape)\n",
    "\n",
    "stereo = cv.StereoBM_create(numDisparities=64, blockSize=15)\n",
    "disparity = stereo.compute(imgL,imgR)\n",
    "\n",
    "print \"Min disp value is \" + repr(disparity.min()) + \" and max is \" + repr(disparity.max())\n",
    "\n",
    "# We need to convert the disparity map into something the OpenCV want to plot. This means putting the values between 0-255 for example.\n",
    "# The following call maps the lodisparity value of 0 an dthe highest to 255.\n",
    "disparity_visual = cv.normalize(disparity, None, alpha=0, beta=255, norm_type=cv.NORM_MINMAX, dtype=cv.CV_8U)\n",
    "\n",
    "cv.imshow(\"Left image + Disparity\", np.hstack((imgL, disparity_visual)))\n",
    "print \"Press ENTER in the image to close window\"\n",
    "cv.waitKey(0)\n",
    "cv.destroyAllWindows()"
   ]
  },
  {
   "cell_type": "code",
   "execution_count": null,
   "metadata": {},
   "outputs": [],
   "source": [
    "cv.destroyAllWindows()"
   ]
  },
  {
   "cell_type": "code",
   "execution_count": null,
   "metadata": {},
   "outputs": [],
   "source": []
  },
  {
   "cell_type": "code",
   "execution_count": null,
   "metadata": {},
   "outputs": [],
   "source": []
  }
 ],
 "metadata": {
  "kernelspec": {
   "display_name": "Python 2",
   "language": "python",
   "name": "python2"
  },
  "language_info": {
   "codemirror_mode": {
    "name": "ipython",
    "version": 2
   },
   "file_extension": ".py",
   "mimetype": "text/x-python",
   "name": "python",
   "nbconvert_exporter": "python",
   "pygments_lexer": "ipython2",
   "version": "2.7.12"
  }
 },
 "nbformat": 4,
 "nbformat_minor": 2
}
