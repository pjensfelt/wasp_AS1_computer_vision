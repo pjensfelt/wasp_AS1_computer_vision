{
 "cells": [
  {
   "cell_type": "code",
   "execution_count": 1,
   "metadata": {},
   "outputs": [
    {
     "name": "stdout",
     "output_type": "stream",
     "text": [
      "Image sizes are (1110, 1282)(1110, 1282)(1110, 1282)\n",
      "Min disp value is -16 and max is 2032\n"
     ]
    }
   ],
   "source": [
    "import numpy as np\n",
    "import cv2 as cv\n",
    "from matplotlib import pyplot as plt\n",
    "\n",
    "imgL = cv.imread('test_images/opencv_samples_data/aloeL.jpg',0)\n",
    "imgR = cv.imread('test_images/opencv_samples_data/aloeR.jpg',0)\n",
    "imgGT = cv.imread('test_images/opencv_samples_data/aloeGT.png',0)\n",
    "print \"Image sizes are \" + repr(imgL.shape) + repr(imgR.shape) + repr(imgGT.shape)\n",
    "\n",
    "stereo = cv.StereoBM_create(numDisparities=128, blockSize=17)\n",
    "disparity = stereo.compute(imgL,imgR)\n",
    "\n",
    "print \"Min disp value is \" + repr(disparity.min()) + \" and max is \" + repr(disparity.max())\n",
    "\n",
    "# We need to convert the disparity map into something the OpenCV want to plot. This means putting the values between 0-255 for example.\n",
    "# The following call maps the lodisparity value of 0 an dthe highest to 255.\n",
    "disparity_visual = cv.normalize(disparity, None, alpha=0, beta=255, norm_type=cv.NORM_MINMAX, dtype=cv.CV_8U)\n",
    "\n",
    "cv.imshow(\"Ground truth\", imgGT)\n",
    "cv.imshow(\"Disparity\", disparity_visual)\n",
    "while (1)\n",
    "    k = cv.waitKey(30) & 0xFF\n",
    "    if k == 27 or k = 32:\n",
    "        break\n",
    "cv.destroyAllWindows()"
   ]
  },
  {
   "cell_type": "code",
   "execution_count": null,
   "metadata": {},
   "outputs": [],
   "source": [
    "cv.destroyAllWindows()"
   ]
  },
  {
   "cell_type": "code",
   "execution_count": null,
   "metadata": {},
   "outputs": [],
   "source": []
  },
  {
   "cell_type": "code",
   "execution_count": null,
   "metadata": {},
   "outputs": [],
   "source": []
  }
 ],
 "metadata": {
  "kernelspec": {
   "display_name": "Python 2",
   "language": "python",
   "name": "python2"
  },
  "language_info": {
   "codemirror_mode": {
    "name": "ipython",
    "version": 2
   },
   "file_extension": ".py",
   "mimetype": "text/x-python",
   "name": "python",
   "nbconvert_exporter": "python",
   "pygments_lexer": "ipython2",
   "version": "2.7.12"
  }
 },
 "nbformat": 4,
 "nbformat_minor": 2
}
