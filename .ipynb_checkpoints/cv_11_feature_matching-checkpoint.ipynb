{
 "cells": [
  {
   "cell_type": "markdown",
   "metadata": {},
   "source": "# Matching features\nThis notebook shows how we can match features between frames. This is a core component for many systems. \nFor example when you want to reconstruct a model of the environment, or caluclate how the camera is moving or both at the same time, i.e., simultaneously build a model of the environment and estimating how the camera is moving.. \n\nA feature typically consists of a keypoints (location, i.e., where in the image) and a descriptor (what that part of the image looks like). When performing matching one often uses the descriptor first. In ideal cases the descriptor is so good that it can directly generate only correct matches. In most pratcical cases this is not true and we need to look for the correct matches. \n\nIn the code below we will make use of the ORB feature. ORB is a combination of the FAST detector and the BRIEF descriptor. One of the benefits of ORB is that it is fast to compute and match.\nhttps://www.researchgate.net/publication/221111151_ORB_an_efficient_alternative_to_SIFT_or_SURF\n\nWe make use of David Lowe's ratio test which he defined when he introduced the SIFT feature in https://www.cs.ubc.ca/~lowe/papers/ijcv04.pdf. The idea is that we want to only use matches where two points A and B in two images are much better matches than A and the second best match in the second image. "
  },
  {
   "cell_type": "code",
   "execution_count": null,
   "metadata": {},
   "outputs": [],
   "source": "import numpy as np\nimport cv2 as cv\n\n# Load the image as gray scale images\nimg1 = cv.imread('test_images/patrics_foot_1.jpg',0)\nimg2 = cv.imread('test_images/patrics_foot_2.jpg',0)\nprint(\"The dimension of img1 is \" + repr(img1.shape))\nprint(\"The dimension of img2 is \" + repr(img2.shape))\n\n# Initiate a feature detector\ndetector = cv.ORB_create()\n\n# Find the keypoints and descriptors\nkp1, des1 = detector.detectAndCompute(img1,None)\nkp2, des2 = detector.detectAndCompute(img2,None)\n\n# We use a brute force matcher with default params\nbf = cv.BFMatcher()\nmatches = bf.knnMatch(des1,des2, k=2)\n\n# Apply David Lowe's ratio test to remove bad matches\n# https://www.cs.ubc.ca/~lowe/papers/ijcv04.pdf\ngood = []\nfor m,n in matches:\n    if m.distance < 0.75 * n.distance:\n        good.append([m])\n        \n# Draw the matches, both all of them and the good ones\nimage_matches_all = cv.drawMatchesKnn(img1,kp1,img2,kp2,matches,None)\nimage_matches_good = cv.drawMatchesKnn(img1,kp1,img2,kp2,good,None)\n\ncv.namedWindow(\"All matches between images\", cv.WINDOW_NORMAL)\ncv.resizeWindow(\"All matches between images\", (1000, 300))\ncv.namedWindow(\"Good descriptor matches between images\", cv.WINDOW_NORMAL)\ncv.resizeWindow(\"Good descriptor matches between images\", (1000,380))\n\ncv.imshow(\"All matches between images\", image_matches_all)\ncv.imshow(\"Good descriptor matches between images\", image_matches_good)\n\ncv.waitKey(0)\ncv.destroyAllWindows()"
  },
  {
   "cell_type": "code",
   "execution_count": null,
   "metadata": {},
   "outputs": [],
   "source": ""
  },
  {
   "cell_type": "code",
   "execution_count": null,
   "metadata": {},
   "outputs": [],
   "source": ""
  }
 ],
 "metadata": {
  "kernelspec": {
   "display_name": "Python 2",
   "language": "python",
   "name": "python2"
  },
  "language_info": {
   "codemirror_mode": {
    "name": "ipython",
    "version": 2
   },
   "file_extension": ".py",
   "mimetype": "text/x-python",
   "name": "python",
   "nbconvert_exporter": "python",
   "pygments_lexer": "ipython2",
   "version": "2.7.17"
  }
 },
 "nbformat": 4,
 "nbformat_minor": 2
}
