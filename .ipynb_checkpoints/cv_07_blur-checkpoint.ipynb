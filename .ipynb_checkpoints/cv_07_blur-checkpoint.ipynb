{
 "cells": [
  {
   "cell_type": "markdown",
   "metadata": {},
   "source": "# Blurring images\nThis notebook will show you how to do blurring"
  },
  {
   "cell_type": "code",
   "execution_count": null,
   "metadata": {},
   "outputs": [],
   "source": "import cv2 as cv"
  },
  {
   "cell_type": "markdown",
   "metadata": {},
   "source": "## Load the image\nWhen you have run through the notebook once, go back here and try with different images Take a look at these images for example\n\n* fruits_320_213.jpg\n* mosaic_320_262.jpg\n* image1.jpg\n* noisy_image_example.png"
  },
  {
   "cell_type": "code",
   "execution_count": null,
   "metadata": {},
   "outputs": [],
   "source": "image = cv.imread(\"test_images/fruits_320_213.jpg\")\n# We print the size of the image as a way to ensure that we loaded an image\n# You should see the dimension as a three tuple, corresponding, in order, to height, width and number of channels\n# If the number of channels is missing you have loaded a true gray scale image and what is done below will fail\nprint(\"The dimension of the image is \" + repr(image.shape))"
  },
  {
   "cell_type": "markdown",
   "metadata": {},
   "source": "## Bluring\nBelow we will look at blurring the image\n\nYou can read more about blurring in OpenCV here\nhttps://docs.opencv.org/3.1.0/d4/d13/tutorial_py_filtering.html\n\n**NOTE** You press ESC or SPACE to close the windows"
  },
  {
   "cell_type": "code",
   "execution_count": null,
   "metadata": {},
   "outputs": [],
   "source": "# We blur the image with a NxN kernel\n# NOTE: N must be odd\nN = 5\n\ndef do_nothing(x):\n    pass\n\n# Blur with a box filter which will replace each pixel value with the average of all pixels in a NxN box around the pixel\nblurBox = cv.blur(image, (N,N))\n\n# Do Gaussian smooth. The sigma will be set based on kernel size (the 0)\nblurGauss = cv.GaussianBlur(image, (N,N), 0)\n\nblurMedian = cv.medianBlur(image, N)\n\ncv.imshow(\"Input image\", image)\ncv.imshow(\"Box blurred image\", blurBox)\ncv.imshow(\"Gaussian blurred image\", blurGauss)\ncv.imshow(\"Median blurred image\", blurMedian)\n\n# We create a slider for which we get a nunber which we use to calculate N=2*i+1, ie an odd number\ncv.createTrackbar(\"i\",\"Input image\",1,50,do_nothing)\n\nprint (\"Try the slider. You will specify i from which we calculate N=2*i+1\")\nprint (\"Press SPACE or ESC\")\n\nwhile (1):\n\n    cv.imshow(\"Input image\", image)\n    cv.imshow(\"Box blurred image\", blurBox)\n    cv.imshow(\"Gaussian blurred image\", blurGauss)\n    cv.imshow(\"Median blurred image\", blurMedian)\n    \n    i = cv.getTrackbarPos(\"i\", \"Input image\")\n    N = 2*i+1\n    \n    blurBox = cv.blur(image, (N,N))\n    blurGauss = cv.GaussianBlur(image, (N,N), 0)\n    blurMedian = cv.medianBlur(image, N)\n\n    k = cv.waitKey(37)\n    if k == 27 or k == 32:\n        break\n\ncv.destroyAllWindows()"
  },
  {
   "cell_type": "code",
   "execution_count": null,
   "metadata": {},
   "outputs": [],
   "source": "cv.destroyAllWindows()"
  },
  {
   "cell_type": "code",
   "execution_count": null,
   "metadata": {},
   "outputs": [],
   "source": ""
  }
 ],
 "metadata": {
  "kernelspec": {
   "display_name": "Python 2",
   "language": "python",
   "name": "python2"
  },
  "language_info": {
   "codemirror_mode": {
    "name": "ipython",
    "version": 2
   },
   "file_extension": ".py",
   "mimetype": "text/x-python",
   "name": "python",
   "nbconvert_exporter": "python",
   "pygments_lexer": "ipython2",
   "version": "2.7.17"
  }
 },
 "nbformat": 4,
 "nbformat_minor": 2
}
