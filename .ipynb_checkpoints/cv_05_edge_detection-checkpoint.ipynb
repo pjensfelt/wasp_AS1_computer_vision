{
 "cells": [
  {
   "cell_type": "markdown",
   "metadata": {},
   "source": "# Edge detection\nThis notebook will show you how to do edge detection"
  },
  {
   "cell_type": "code",
   "execution_count": 1,
   "metadata": {},
   "outputs": [],
   "source": "import cv2 as cv"
  },
  {
   "cell_type": "markdown",
   "metadata": {},
   "source": "## Load the image\nWhen you have run through the notebook once, go back here and try with different images Take a look at these images for example\n\n* fruits_320_213.jpg\n* mosaic_320_262.jpg\n* image1.jpg"
  },
  {
   "cell_type": "code",
   "execution_count": 2,
   "metadata": {},
   "outputs": [
    {
     "name": "stdout",
     "output_type": "stream",
     "text": "The dimension of the image is (213, 320, 3)\n"
    }
   ],
   "source": "image = cv.imread(\"test_images/fruits_320_213.jpg\")\n# We print the size of the image as a way to ensure that we loaded an image\n# You should see the dimension as a three tuple, corresponding, in order, to height, width and number of channels\n# If the number of channels is missing you have loaded a true gray scale image and what is done below will fail\nprint(\"The dimension of the image is \" + repr(image.shape))"
  },
  {
   "cell_type": "markdown",
   "metadata": {},
   "source": "## Edge detection\nBelow we will detect edges and display them."
  },
  {
   "cell_type": "code",
   "execution_count": null,
   "metadata": {},
   "outputs": [],
   "source": "edges = cv.Canny(image,100,200)\n\ncv.imshow(\"Input image\", image)\ncv.imshow(\"Canny edges\", edges)\n\ncv.waitKey(0)\ncv.destroyAllWindows()"
  },
  {
   "cell_type": "code",
   "execution_count": null,
   "metadata": {},
   "outputs": [],
   "source": ""
  }
 ],
 "metadata": {
  "kernelspec": {
   "display_name": "Python 2",
   "language": "python",
   "name": "python2"
  },
  "language_info": {
   "codemirror_mode": {
    "name": "ipython",
    "version": 2
   },
   "file_extension": ".py",
   "mimetype": "text/x-python",
   "name": "python",
   "nbconvert_exporter": "python",
   "pygments_lexer": "ipython2",
   "version": "2.7.17"
  }
 },
 "nbformat": 4,
 "nbformat_minor": 2
}
