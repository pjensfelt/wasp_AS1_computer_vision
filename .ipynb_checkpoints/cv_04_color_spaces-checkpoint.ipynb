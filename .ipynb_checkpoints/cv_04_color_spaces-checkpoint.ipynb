{
 "cells": [
  {
   "cell_type": "markdown",
   "metadata": {},
   "source": "# Color spaces"
  },
  {
   "cell_type": "code",
   "execution_count": 1,
   "metadata": {},
   "outputs": [],
   "source": "import cv2 as cv"
  },
  {
   "cell_type": "markdown",
   "metadata": {},
   "source": "## Load the image\nWhen you have run through the notebook once, go back here and try with different images\nTake a look at these images for example  \n* color_palette_300_300.png\n* fruits_320_213.jpg\n* mosaic_320_262.jpg\n* image1.jpg"
  },
  {
   "cell_type": "code",
   "execution_count": 2,
   "metadata": {},
   "outputs": [
    {
     "name": "stdout",
     "output_type": "stream",
     "text": "The dimension of the image is (300, 300, 3)\n"
    }
   ],
   "source": "image = cv.imread(\"test_images/color_palette_300_300.png\")\n# We print the size of the image as a way to ensure that we loaded an image\n# You should see the dimension as a three tuple, corresponding, in order, to height, width and number of channels\n# If the number of channels is missing you have loaded a true gray scale image and what is done below will fail\nprint(\"The dimension of the image is \" + repr(image.shape))"
  },
  {
   "cell_type": "markdown",
   "metadata": {},
   "source": "## RGB color space\nWe get the R,G and B channels from the image and display them as gray scale images.\nNote that OpenCV stores image data as BGR rather than RGB\nWhite in the R,G and B gray scale images means full intensity in that channel and black no intensity\nCan you tell (or remind yourself) from this how yellow, cyan and magenta is represented as mixtures of R,G and B.\n\n**NOTE** When you move the mouse over the image you can see the pixel coordinate and the color / intensity value at that position\n\n**NOTE** When you are ready to move on from the next cell remember to press ENTER with one of the image windows active"
  },
  {
   "cell_type": "code",
   "execution_count": 3,
   "metadata": {},
   "outputs": [
    {
     "name": "stdout",
     "output_type": "stream",
     "text": "When you are ready to move on from the next cell remember to press ENTER with one of the image windows active\n"
    }
   ],
   "source": "b,g,r = cv.split(image);\ncv.imshow(\"color image\", image)\ncv.imshow(\"Red\", r)\ncv.imshow(\"Green\", g)\ncv.imshow(\"Blue\", b)\n\nprint (\"When you are ready to move on from the next cell remember to press ENTER with one of the image windows active\")\ncv.waitKey(0)\ncv.destroyAllWindows()"
  },
  {
   "cell_type": "markdown",
   "metadata": {},
   "source": "## HSV color space\nThe HSV color space is another way to represent the image information\nHSV stands for Hue, Saturation and Value\nHue rougly corresponds to the \"color\" and can be thought of as an angle. Rotating one turn makes you go through all the colors and come back to the same. Value is the intensity. With Value=0 you have black no matter what value the other dimensions take. Saturation tells how saturated the color is. When Saturation is 0, Hue has no effect and we have a grayscale image, that changes from black (Value=0) to White (Value=Max).\nWhen you visualize the HSV channels you will see how the six squares in the top two rows that are fully saturated colors (red, green, blue, yellow, magenta and cyan) all have Saturation=Max and Value=Max and that the black/white gradient at the bottom is unalterned when looking in the Value channel. We see the different colors showing up in the Hue channel as different values. If you move with the mouse over the images you can read off the intesity in the image at different pixels."
  },
  {
   "cell_type": "code",
   "execution_count": 4,
   "metadata": {},
   "outputs": [
    {
     "name": "stdout",
     "output_type": "stream",
     "text": "When you are ready to move on from the next cell remember to press ENTER with one of the image windows active\n"
    }
   ],
   "source": "h,s,v = cv.split(cv.cvtColor(image, cv.COLOR_BGR2HSV))\ncv.imshow(\"color image\", image)\ncv.imshow(\"Hue\", h)\ncv.imshow(\"Saturation\", s)\ncv.imshow(\"Value\", v)\n\nprint (\"When you are ready to move on from the next cell remember to press ENTER with one of the image windows active\")\ncv.waitKey(0)\ncv.destroyAllWindows()"
  },
  {
   "cell_type": "code",
   "execution_count": null,
   "metadata": {},
   "outputs": [],
   "source": ""
  }
 ],
 "metadata": {
  "kernelspec": {
   "display_name": "Python 2",
   "language": "python",
   "name": "python2"
  },
  "language_info": {
   "codemirror_mode": {
    "name": "ipython",
    "version": 2
   },
   "file_extension": ".py",
   "mimetype": "text/x-python",
   "name": "python",
   "nbconvert_exporter": "python",
   "pygments_lexer": "ipython2",
   "version": "2.7.17"
  }
 },
 "nbformat": 4,
 "nbformat_minor": 2
}
