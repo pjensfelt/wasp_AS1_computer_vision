{
 "cells": [
  {
   "cell_type": "markdown",
   "metadata": {},
   "source": [
    "# Loading and showing images"
   ]
  },
  {
   "cell_type": "markdown",
   "metadata": {},
   "source": [
    "## Import the OpenCV package"
   ]
  },
  {
   "cell_type": "code",
   "execution_count": null,
   "metadata": {},
   "outputs": [],
   "source": [
    "import cv2 as cv"
   ]
  },
  {
   "cell_type": "markdown",
   "metadata": {},
   "source": [
    "## Load image"
   ]
  },
  {
   "cell_type": "code",
   "execution_count": null,
   "metadata": {},
   "outputs": [],
   "source": [
    "# The path to (relative to where jupyter/python is running) the image to load\n",
    "imageName = \"test_images/lena.jpg\"\n",
    "\n",
    "# Load the source image\n",
    "image = cv.imread(imageName)\n",
    "\n",
    "# We can comvert the image directly to gray scale if we want.\n",
    "# We do that??? Well, in many cases the algorithm we want to run is not using the color information.\n",
    "# cv2.IMREAD_COLOR (1)     : Loads a color image. Any transparency of image will be neglected. It is the default flag.\n",
    "# cv2.IMREAD_GRAYSCALE (0) : Loads image in grayscale mode\n",
    "# cv2.IMREAD_UNCHANGED (-1): Loads image as such including alpha channel\n",
    "imageG = cv.imread(imageName, cv.IMREAD_GRAYSCALE)\n",
    "\n",
    "print(\"We remind ourself about the fact that images are merely matrices with numbers\")\n",
    "print(imageG)\n"
   ]
  },
  {
   "cell_type": "markdown",
   "metadata": {},
   "source": [
    "## Show the image"
   ]
  },
  {
   "cell_type": "code",
   "execution_count": null,
   "metadata": {},
   "outputs": [],
   "source": [
    "# Show the gray scale image\n",
    "cv.imshow('Gray scale image',imageG)\n",
    "\n",
    "# Show the color image\n",
    "cv.imshow('Color image', image)\n",
    "\n",
    "print(\"Waiting for the user to press ENTER with one of the image windows active\")\n",
    "cv.waitKey(0)\n",
    "cv.destroyAllWindows()"
   ]
  },
  {
   "cell_type": "code",
   "execution_count": null,
   "metadata": {},
   "outputs": [],
   "source": []
  }
 ],
 "metadata": {
  "kernelspec": {
   "display_name": "Python 2",
   "language": "python",
   "name": "python2"
  },
  "language_info": {
   "codemirror_mode": {
    "name": "ipython",
    "version": 2
   },
   "file_extension": ".py",
   "mimetype": "text/x-python",
   "name": "python",
   "nbconvert_exporter": "python",
   "pygments_lexer": "ipython2",
   "version": "2.7.12"
  }
 },
 "nbformat": 4,
 "nbformat_minor": 2
}
