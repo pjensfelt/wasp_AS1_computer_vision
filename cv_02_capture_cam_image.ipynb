{
 "cells": [
  {
   "cell_type": "markdown",
   "metadata": {},
   "source": [
    "# Capture camera image\n",
    "The real fun starts when we work with images captured by our own camera. Let us try to get an image from the webcam!\n",
    "\n",
    "The code comes mostly from https://medium.com/@neotheicebird/webcam-based-image-processing-in-ipython-notebooks-47c75a022514"
   ]
  },
  {
   "cell_type": "code",
   "execution_count": 3,
   "metadata": {},
   "outputs": [],
   "source": [
    "import cv2 as cv"
   ]
  },
  {
   "cell_type": "markdown",
   "metadata": {},
   "source": [
    "## Capture an image\n",
    "Now we capture the image. You want to change the device number if you have more than one camera. The built-in, if you have such, will typically be number 0, the next one would be 1, and so on.\n",
    "\n",
    "**NOTE** Do not forget to relase the capture device when you are done"
   ]
  },
  {
   "cell_type": "code",
   "execution_count": 4,
   "metadata": {},
   "outputs": [
    {
     "name": "stdout",
     "output_type": "stream",
     "text": [
      "We got an image frame, dislaying it\n",
      "Wating for the user to press ENTER with one of the image windows active\n"
     ]
    }
   ],
   "source": [
    "device_number = 0\n",
    "capture_device = cv.VideoCapture(device_number)\n",
    "if capture_device.isOpened(): # try to get an image frame\n",
    "    is_capturing, image = capture_device.read()\n",
    "    print(\"We got an image frame, dislaying it\")\n",
    "    cv.imshow(\"Captured image\", image)\n",
    "    print(\"Waiting for the user to press ENTER with one of the image windows active\")\n",
    "    cv.waitKey(0)\n",
    "    cv.destroyAllWindows()\n",
    "else:\n",
    "    is_capturing = False\n",
    "    print(\"Could not capture a frame\")\n",
    "\n",
    "# Make sure to remember to release the capture device, otherwise you will not be able to get any more images\n",
    "capture_device.release()"
   ]
  },
  {
   "cell_type": "code",
   "execution_count": null,
   "metadata": {},
   "outputs": [],
   "source": []
  }
 ],
 "metadata": {
  "kernelspec": {
   "display_name": "Python 3",
   "language": "python",
   "name": "python3"
  },
  "language_info": {
   "codemirror_mode": {
    "name": "ipython",
    "version": 3
   },
   "file_extension": ".py",
   "mimetype": "text/x-python",
   "name": "python",
   "nbconvert_exporter": "python",
   "pygments_lexer": "ipython3",
   "version": "3.5.2"
  }
 },
 "nbformat": 4,
 "nbformat_minor": 2
}
