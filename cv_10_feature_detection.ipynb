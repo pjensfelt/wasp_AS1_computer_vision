{
 "cells": [
  {
   "cell_type": "markdown",
   "metadata": {},
   "source": [
    "# Feature extraction\n",
    "This notebook will show you how to extract features from an image\n",
    "\n",
    "From http://opencv-python-tutroals.readthedocs.io/en/latest/py_tutorials/py_feature2d/py_table_of_contents_feature2d/py_table_of_contents_feature2d.html"
   ]
  },
  {
   "cell_type": "code",
   "execution_count": null,
   "metadata": {},
   "outputs": [],
   "source": [
    "import numpy as np\n",
    "import cv2 as cv"
   ]
  },
  {
   "cell_type": "markdown",
   "metadata": {},
   "source": [
    "## Load the image\n",
    "When you have run through the notebook once, go back here and try with different images Take a look at these images for example\n",
    "\n",
    "* fruits_320_213.jpg\n",
    "* mosaic_320_262.jpg\n",
    "* lena.jpg"
   ]
  },
  {
   "cell_type": "markdown",
   "metadata": {},
   "source": [
    "## Feature extraction\n",
    "The code below extracts a variety of features from the input image\n",
    "\n",
    "Some examples to test on\n",
    "* fruits_320_213.jpg\n",
    "* mosaic_320_262.jpg\n",
    "* lena.jpg\n",
    "* noisy_image_example.png\n",
    "\n",
    "**NOTE** Press ENTER to close the window"
   ]
  },
  {
   "cell_type": "code",
   "execution_count": null,
   "metadata": {},
   "outputs": [],
   "source": [
    "imagefile = \"test_images/fruits_320_213.jpg\";\n",
    "\n",
    "image = cv.imread(imagefile)\n",
    "print(\"The dimension of the image is \" + repr(image.shape))\n",
    "\n",
    "# Show the input image\n",
    "cv.imshow('Input image',image)\n",
    "\n",
    "\n",
    "#####################################################################\n",
    "# Extract the Harris corners\n",
    "# http://opencv-python-tutroals.readthedocs.io/en/latest/py_tutorials/py_feature2d/py_features_harris/py_features_harris.html\n",
    "\n",
    "image = cv.imread(imagefile)\n",
    "gray = cv.cvtColor(image, cv.COLOR_BGR2GRAY)\n",
    "# Turn the image into a numpy array\n",
    "graynp = np.float32(gray)\n",
    "\n",
    "harris = cv.cornerHarris(graynp,2,3,0.04)\n",
    "\n",
    "# Dilate the harris points to make them easier to see\n",
    "harris = cv.dilate(harris,None)\n",
    "\n",
    "# Display only the strongest corneres\n",
    "overlayharris = image\n",
    "overlayharris[harris>0.01*harris.max()]=[255,0,0]\n",
    "\n",
    "#####################################################################\n",
    "# Shi-Tomasi corners\n",
    "\n",
    "image = cv.imread(imagefile)\n",
    "gray = cv.cvtColor(image, cv.COLOR_BGR2GRAY)\n",
    "\n",
    "st_n_pts = 50\n",
    "st_qual = 0.01\n",
    "st_dist = 10\n",
    "stpts = cv.goodFeaturesToTrack(gray,st_n_pts, st_qual, st_dist)\n",
    "stpts = np.int0(stpts)\n",
    "\n",
    "overlayst = image\n",
    "\n",
    "for i in stpts:\n",
    "    x,y = i.ravel()\n",
    "    cv.circle(overlayst,(x,y),3,[0,255,0],-1)\n",
    "\n",
    "#####################################################################\n",
    "# Extract ORB features\n",
    "\n",
    "image = cv.imread(imagefile)\n",
    "\n",
    "# Create the ORB creator\n",
    "orb = cv.ORB_create()\n",
    "\n",
    "# find the keypoints with ORB\n",
    "orbpts = orb.detect(gray,None)\n",
    "\n",
    "# compute the descriptors with ORB\n",
    "orbpts, prbdescr = orb.compute(gray, orbpts)\n",
    "\n",
    "# Draw only keypoints location,not size and orientation\n",
    "overlayorb = cv.drawKeypoints(image, orbpts, None, color=(0,0,255), flags=0)\n",
    "\n",
    "cv.imshow('Image overlayed with strongest Harris corners', overlayharris)\n",
    "cv.imshow('Image overlayed with strongest Shi-Tomasi corners', overlayst)\n",
    "cv.imshow('Image overlayed with ORB features', overlayorb)\n",
    "cv.waitKey(0)\n",
    "cv.destroyAllWindows()"
   ]
  },
  {
   "cell_type": "code",
   "execution_count": null,
   "metadata": {},
   "outputs": [],
   "source": [
    "cv.destroyAllWindows()"
   ]
  }
 ],
 "metadata": {
  "kernelspec": {
   "display_name": "Python 2",
   "language": "python",
   "name": "python2"
  },
  "language_info": {
   "codemirror_mode": {
    "name": "ipython",
    "version": 2
   },
   "file_extension": ".py",
   "mimetype": "text/x-python",
   "name": "python",
   "nbconvert_exporter": "python",
   "pygments_lexer": "ipython2",
   "version": "2.7.12"
  }
 },
 "nbformat": 4,
 "nbformat_minor": 2
}
