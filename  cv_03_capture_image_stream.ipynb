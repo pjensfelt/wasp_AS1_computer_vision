{
 "cells": [
  {
   "cell_type": "markdown",
   "metadata": {},
   "source": [
    "# Stream images from a camera"
   ]
  },
  {
   "cell_type": "markdown",
   "metadata": {},
   "source": [
    "## Import packages\n",
    "We include the sys package so that we can order the program to quit"
   ]
  },
  {
   "cell_type": "code",
   "execution_count": null,
   "metadata": {},
   "outputs": [],
   "source": [
    "import cv2 as cv\n",
    "import sys"
   ]
  },
  {
   "cell_type": "markdown",
   "metadata": {},
   "source": [
    "## Capture, display, repeat..."
   ]
  },
  {
   "cell_type": "code",
   "execution_count": null,
   "metadata": {},
   "outputs": [],
   "source": [
    "# You want to change the device number if you have \n",
    "# more than one camera. The built-in, if you have such, \n",
    "# and so on.\n",
    "#\n",
    "# NOTE Do not forget to relase the capture device when you are done\n",
    "\n",
    "device_number = 0\n",
    "capture_device = cv.VideoCapture(device_number)\n",
    "\n",
    "if capture_device.isOpened(): # try to get the first frame\n",
    "    is_capturing, image = capture_device.read()\n",
    "else:\n",
    "    is_capturing = False\n",
    "    print(\"Failed to get even a single image frame\")\n",
    "    sys.exit()\n",
    "\n",
    "# Loop for as long as we get images and as long as the user does not order a kernel interrupt or press STOP\n",
    "print(\"Select Kernel / Interrupt from the menu to make it stop\")\n",
    "while is_capturing:\n",
    "\n",
    "    try:\n",
    "        # Capture the image\n",
    "        is_capturing, image = capture_device.read()\n",
    "\n",
    "        # Show the image\n",
    "        cv.imshow(\"Image stream\", image)\n",
    "\n",
    "        # Wait for a while until we grab the next image\n",
    "        time_to_wait_ms = 50\n",
    "        cv.waitKey(time_to_wait_ms)\n",
    "    except KeyboardInterrupt:\n",
    "        print(\"Program interupted\")\n",
    "        break;\n",
    "        \n",
    "print(\"Ending by releasing the device\")\n",
    "cv.destroyAllWindows()\n",
    "capture_device.release()"
   ]
  },
  {
   "cell_type": "code",
   "execution_count": null,
   "metadata": {},
   "outputs": [],
   "source": []
  }
 ],
 "metadata": {
  "kernelspec": {
   "display_name": "Python 3",
   "language": "python",
   "name": "python3"
  },
  "language_info": {
   "codemirror_mode": {
    "name": "ipython",
    "version": 3
   },
   "file_extension": ".py",
   "mimetype": "text/x-python",
   "name": "python",
   "nbconvert_exporter": "python",
   "pygments_lexer": "ipython3",
   "version": "3.5.2"
  }
 },
 "nbformat": 4,
 "nbformat_minor": 2
}
