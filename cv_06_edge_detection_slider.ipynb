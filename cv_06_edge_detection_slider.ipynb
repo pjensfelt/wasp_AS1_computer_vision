{
 "cells": [
  {
   "cell_type": "markdown",
   "metadata": {},
   "source": [
    "# Edge detection\n",
    "This notebook will show you how to do edge detection"
   ]
  },
  {
   "cell_type": "code",
   "execution_count": null,
   "metadata": {},
   "outputs": [],
   "source": [
    "import cv2 as cv"
   ]
  },
  {
   "cell_type": "markdown",
   "metadata": {},
   "source": [
    "## Load the image\n",
    "When you have run through the notebook once, go back here and try with different images Take a look at these images for example\n",
    "\n",
    "* fruits_320_213.jpg\n",
    "* mosaic_320_262.jpg\n",
    "* lena.jpg"
   ]
  },
  {
   "cell_type": "code",
   "execution_count": null,
   "metadata": {},
   "outputs": [],
   "source": [
    "image = cv.imread(\"test_images/fruits_320_213.jpg\")\n",
    "# We print the size of the image as a way to ensure that we loaded an image\n",
    "# You should see the dimension as a three tuple, corresponding, in order, to height, width and number of channels\n",
    "# If the number of channels is missing you have loaded a true gray scale image and what is done below will fail\n",
    "print(\"The dimension of the image is \" + repr(image.shape))"
   ]
  },
  {
   "cell_type": "markdown",
   "metadata": {},
   "source": [
    "## Edge detection\n",
    "Below we will play with the Canny edge detector"
   ]
  },
  {
   "cell_type": "code",
   "execution_count": null,
   "metadata": {},
   "outputs": [],
   "source": [
    "edges = cv.Canny(image,100,200)\n",
    "\n",
    "cv.imshow(\"Input image\", image)\n",
    "cv.imshow(\"Canny edges\", edges)\n",
    "\n",
    "def do_nothing(x):\n",
    "    pass\n",
    "\n",
    "cv.createTrackbar(\"min_value\",\"Canny edges\",0,500,do_nothing)\n",
    "cv.createTrackbar(\"max_value\",\"Canny edges\",0,500,do_nothing)\n",
    "\n",
    "print (\"Try the different slides. Press SPACE or ESC\")\n",
    "\n",
    "while (1):\n",
    "\n",
    "    cv.imshow(\"Input image\", image)\n",
    "    cv.imshow(\"Canny edges\", edges)\n",
    "     \n",
    "    min_value = cv.getTrackbarPos(\"min_value\", \"Canny edges\")\n",
    "    max_value = cv.getTrackbarPos(\"max_value\", \"Canny edges\")\n",
    " \n",
    "    edges = cv.Canny(image, min_value, max_value)\n",
    "     \n",
    "    k = cv.waitKey(37)\n",
    "    if k == 27 or k == 32:\n",
    "        break\n",
    "\n",
    "cv.destroyAllWindows()"
   ]
  },
  {
   "cell_type": "code",
   "execution_count": null,
   "metadata": {},
   "outputs": [],
   "source": []
  }
 ],
 "metadata": {
  "kernelspec": {
   "display_name": "Python 2",
   "language": "python",
   "name": "python2"
  },
  "language_info": {
   "codemirror_mode": {
    "name": "ipython",
    "version": 2
   },
   "file_extension": ".py",
   "mimetype": "text/x-python",
   "name": "python",
   "nbconvert_exporter": "python",
   "pygments_lexer": "ipython2",
   "version": "2.7.12"
  }
 },
 "nbformat": 4,
 "nbformat_minor": 2
}
