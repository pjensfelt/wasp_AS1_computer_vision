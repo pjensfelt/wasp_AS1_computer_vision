{
 "cells": [
  {
   "cell_type": "markdown",
   "metadata": {},
   "source": [
    "# Blurring images\n",
    "This notebook will show you how to do blurring"
   ]
  },
  {
   "cell_type": "code",
   "execution_count": null,
   "metadata": {},
   "outputs": [],
   "source": [
    "import cv2 as cv"
   ]
  },
  {
   "cell_type": "markdown",
   "metadata": {},
   "source": [
    "## Load the image\n",
    "When you have run through the notebook once, go back here and try with different images Take a look at these images for example\n",
    "\n",
    "* fruits_320_213.jpg\n",
    "* mosaic_320_262.jpg\n",
    "* lena.jpg"
   ]
  },
  {
   "cell_type": "code",
   "execution_count": null,
   "metadata": {},
   "outputs": [],
   "source": [
    "image = cv.imread(\"test_images/fruits_320_213.jpg\")\n",
    "# We print the size of the image as a way to ensure that we loaded an image\n",
    "# You should see the dimension as a three tuple, corresponding, in order, to height, width and number of channels\n",
    "# If the number of channels is missing you have loaded a true gray scale image and what is done below will fail\n",
    "print(\"The dimension of the image is \" + repr(image.shape))"
   ]
  },
  {
   "cell_type": "markdown",
   "metadata": {},
   "source": [
    "## Bluring\n",
    "Below we will look at blurring the image\n",
    "\n",
    "You can read more about blurring in OpenCV here\n",
    "https://docs.opencv.org/3.1.0/d4/d13/tutorial_py_filtering.html\n",
    "\n",
    "**NOTE** You press ESC or SPACE to close the windows"
   ]
  },
  {
   "cell_type": "code",
   "execution_count": null,
   "metadata": {},
   "outputs": [],
   "source": [
    "# We blur the image with a NxN kernel\n",
    "# NOTE: N must be odd\n",
    "N = 5\n",
    "\n",
    "def do_nothing(x):\n",
    "    pass\n",
    "\n",
    "# Blur with a box filter which will replace each pixel value with the average of all pixels in a NxN box around the pixel\n",
    "blurBox = cv.blur(image, (N,N))\n",
    "\n",
    "# Do Gaussian smooth. The sigma will be set based on kernel size (the 0)\n",
    "blurGauss = cv.GaussianBlur(image, (N,N), 0)\n",
    "\n",
    "cv.imshow(\"Input image\", image)\n",
    "cv.imshow(\"Box blurred image\", blurBox)\n",
    "cv.imshow(\"Gaussian blurred image\", blurGauss)\n",
    "\n",
    "# We create a slider for which we get a nunber which we use to calculate N=2*i+1, ie an odd number\n",
    "cv.createTrackbar(\"i\",\"Input image\",1,50,do_nothing)\n",
    "\n",
    "print (\"Try the slider. You will specify i from which we calculate N=2*i+1\")\n",
    "print (\"Press SPACE or ESC\")\n",
    "\n",
    "while (1):\n",
    "\n",
    "    cv.imshow(\"Input image\", image)\n",
    "    cv.imshow(\"Box blurred image\", blurBox)\n",
    "    cv.imshow(\"Gaussian blurred image\", blurGauss)\n",
    "    \n",
    "    i = cv.getTrackbarPos(\"i\", \"Input image\")\n",
    "    N = 2*i+1\n",
    "    \n",
    "    blurBox = cv.blur(image, (N,N))\n",
    "    blurGauss = cv.GaussianBlur(image, (N,N), 0)\n",
    "\n",
    "    k = cv.waitKey(37)\n",
    "    if k == 27 or k == 32:\n",
    "        break\n",
    "\n",
    "cv.destroyAllWindows()"
   ]
  },
  {
   "cell_type": "code",
   "execution_count": null,
   "metadata": {},
   "outputs": [],
   "source": [
    "cv.destroyAllWindows()"
   ]
  },
  {
   "cell_type": "code",
   "execution_count": null,
   "metadata": {},
   "outputs": [],
   "source": []
  }
 ],
 "metadata": {
  "kernelspec": {
   "display_name": "Python 2",
   "language": "python",
   "name": "python2"
  },
  "language_info": {
   "codemirror_mode": {
    "name": "ipython",
    "version": 2
   },
   "file_extension": ".py",
   "mimetype": "text/x-python",
   "name": "python",
   "nbconvert_exporter": "python",
   "pygments_lexer": "ipython2",
   "version": "2.7.12"
  }
 },
 "nbformat": 4,
 "nbformat_minor": 2
}
